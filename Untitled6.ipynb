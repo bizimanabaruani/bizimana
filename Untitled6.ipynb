{
  "nbformat": 4,
  "nbformat_minor": 0,
  "metadata": {
    "colab": {
      "provenance": [],
      "authorship_tag": "ABX9TyP7POJ6aZ66NzqQhqG2cZ8x",
      "include_colab_link": true
    },
    "kernelspec": {
      "name": "python3",
      "display_name": "Python 3"
    },
    "language_info": {
      "name": "python"
    }
  },
  "cells": [
    {
      "cell_type": "markdown",
      "metadata": {
        "id": "view-in-github",
        "colab_type": "text"
      },
      "source": [
        "<a href=\"https://colab.research.google.com/github/bizimanabaruani/bizimana/blob/main/Untitled6.ipynb\" target=\"_parent\"><img src=\"https://colab.research.google.com/assets/colab-badge.svg\" alt=\"Open In Colab\"/></a>"
      ]
    },
    {
      "cell_type": "code",
      "execution_count": 18,
      "metadata": {
        "colab": {
          "base_uri": "https://localhost:8080/"
        },
        "id": "P_brd_vH7VUs",
        "outputId": "d213a233-baa9-4e95-b68c-cdb357fd888b"
      },
      "outputs": [
        {
          "output_type": "stream",
          "name": "stdout",
          "text": [
            "Similarity: 0.64\n",
            "Common words: {'systematic', 'the', 'is', 'of', 'History', 'study', 'past'}\n"
          ]
        }
      ],
      "source": [
        "\n",
        "def jaccard_similarity(text1, text2):\n",
        "    # Split texts into sets of words\n",
        "    set1 = set(text1.split())\n",
        "    set2 = set(text2.split())\n",
        "\n",
        "    # Find intersection and union\n",
        "    intersection = set1.intersection(set2)\n",
        "    union = set1.union(set2)\n",
        "\n",
        "    # Calculate Jaccard similarity\n",
        "    similarity = len(intersection) / len(union)\n",
        "\n",
        "    # Return similarity and intersecting words\n",
        "    return similarity, intersection\n",
        "\n",
        "# Input texts\n",
        "filel = \"History is the systematic study of the past\"\n",
        "file2 = \"History is the systematic study of the past this is just for practice\"\n",
        "\n",
        "# Get similarity and common words\n",
        "similarity, common_words = jaccard_similarity(filel, file2)\n",
        "\n",
        "# Print results\n",
        "print(f\"Similarity: {similarity:.2f}\")\n",
        "print(f\"Common words: {common_words}\")\n"
      ]
    }
  ]
}