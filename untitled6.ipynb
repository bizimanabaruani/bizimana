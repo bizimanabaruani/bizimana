{
  "nbformat": 4,
  "nbformat_minor": 0,
  "metadata": {
    "colab": {
      "provenance": [],
      "authorship_tag": "ABX9TyMlwysvjhHJwz2cqi4EXnHN",
      "include_colab_link": true
    },
    "kernelspec": {
      "name": "python3",
      "display_name": "Python 3"
    },
    "language_info": {
      "name": "python"
    }
  },
  "cells": [
    {
      "cell_type": "markdown",
      "metadata": {
        "id": "view-in-github",
        "colab_type": "text"
      },
      "source": [
        "<a href=\"https://colab.research.google.com/github/bizimanabaruani/bizimana/blob/main/untitled6.ipynb\" target=\"_parent\"><img src=\"https://colab.research.google.com/assets/colab-badge.svg\" alt=\"Open In Colab\"/></a>"
      ]
    },
    {
      "cell_type": "code",
      "execution_count": null,
      "metadata": {
        "colab": {
          "base_uri": "https://localhost:8080/"
        },
        "id": "P_brd_vH7VUs",
        "outputId": "dfc9d183-d77b-4b16-d5c5-38ce928c8aac"
      },
      "outputs": [
        {
          "output_type": "stream",
          "name": "stdout",
          "text": [
            "instersection between two files: {'systematic', 'the', 'is', 'of', 'History', 'study', 'past'}\n",
            "union between two files: {'systematic', 'is', 'of', 'practice', 'this', 'for', 'the', 'just', 'History', 'study', 'past'}\n"
          ]
        }
      ],
      "source": [
        "\n",
        "def sentence_operations(file1, file2):\n",
        "\n",
        "    set1 = set(file1.split())\n",
        "    set2 = set(file2.split())\n",
        "\n",
        "    intersection = set1.intersection(set2)\n",
        "    union = set1.union(set2)\n",
        "\n",
        "    return intersection, union\n",
        "\n",
        "\n",
        "file1 = \"History is the systematic study of the past\"\n",
        "file2 = \"History is the systematic study of the past this is just for practice\"\n",
        "intersection, union = sentence_operations(file1, file2)\n",
        "print(\"instersection between two files:\", intersection)\n",
        "print(\"union between two files:\", union)\n"
      ]
    }
  ]
}